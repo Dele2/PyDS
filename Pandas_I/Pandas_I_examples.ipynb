{
 "cells": [
  {
   "cell_type": "code",
   "execution_count": null,
   "metadata": {
    "collapsed": true
   },
   "outputs": [],
   "source": [
    "from __future__ import division # If you're in Python 2.7"
   ]
  },
  {
   "cell_type": "markdown",
   "metadata": {},
   "source": [
    "### Importing pandas:"
   ]
  },
  {
   "cell_type": "code",
   "execution_count": null,
   "metadata": {
    "ExecuteTime": {
     "end_time": "2017-04-14T21:39:10.526779Z",
     "start_time": "2017-04-14T21:39:09.643994"
    },
    "collapsed": false
   },
   "outputs": [],
   "source": [
    "import pandas as pd"
   ]
  },
  {
   "cell_type": "markdown",
   "metadata": {},
   "source": [
    "### Creating a data frame:"
   ]
  },
  {
   "cell_type": "code",
   "execution_count": null,
   "metadata": {
    "ExecuteTime": {
     "end_time": "2017-04-14T21:44:06.650909Z",
     "start_time": "2017-04-14T21:44:06.642985"
    },
    "collapsed": false
   },
   "outputs": [],
   "source": [
    "df = pd.DataFrame([[3, 'tree',     9e3],\n",
    "                   [4, 'duck',     7e2],\n",
    "                   [10,'quagmire', 6e4]], \n",
    "                  columns = ['feature_1',\n",
    "                             'feature_2',\n",
    "                             'feature_3'])"
   ]
  },
  {
   "cell_type": "code",
   "execution_count": null,
   "metadata": {
    "ExecuteTime": {
     "end_time": "2017-04-14T21:44:08.628109Z",
     "start_time": "2017-04-14T21:44:08.617814"
    },
    "collapsed": false
   },
   "outputs": [],
   "source": [
    "df"
   ]
  },
  {
   "cell_type": "markdown",
   "metadata": {},
   "source": [
    "### Reading in data:"
   ]
  },
  {
   "cell_type": "code",
   "execution_count": null,
   "metadata": {
    "ExecuteTime": {
     "end_time": "2017-04-15T12:08:42.751156Z",
     "start_time": "2017-04-15T12:08:42.746968"
    },
    "collapsed": true
   },
   "outputs": [],
   "source": [
    "movie_ratings = pd.read_csv('./ex_data.csv')"
   ]
  },
  {
   "cell_type": "code",
   "execution_count": null,
   "metadata": {
    "ExecuteTime": {
     "end_time": "2017-04-15T12:08:43.284910Z",
     "start_time": "2017-04-15T12:08:43.275784"
    },
    "collapsed": false,
    "scrolled": true
   },
   "outputs": [],
   "source": [
    "movie_ratings"
   ]
  },
  {
   "cell_type": "markdown",
   "metadata": {},
   "source": [
    "### Calculating new features:"
   ]
  },
  {
   "cell_type": "code",
   "execution_count": null,
   "metadata": {
    "ExecuteTime": {
     "end_time": "2017-04-15T12:13:58.735851Z",
     "start_time": "2017-04-15T12:13:58.731617"
    },
    "collapsed": false
   },
   "outputs": [],
   "source": [
    "movie_ratings['squared_rating'] = movie_ratings.Rating**2 "
   ]
  },
  {
   "cell_type": "markdown",
   "metadata": {},
   "source": [
    "### Recoding (mapping) new features:"
   ]
  },
  {
   "cell_type": "code",
   "execution_count": null,
   "metadata": {
    "ExecuteTime": {
     "end_time": "2017-04-15T12:08:48.962027Z",
     "start_time": "2017-04-15T12:08:48.957462"
    },
    "collapsed": true
   },
   "outputs": [],
   "source": [
    "def recoding_function(x):\n",
    "    if (x > 10):\n",
    "        return(10)\n",
    "    else:\n",
    "        return(x)"
   ]
  },
  {
   "cell_type": "code",
   "execution_count": null,
   "metadata": {
    "ExecuteTime": {
     "end_time": "2017-04-15T12:08:49.724356Z",
     "start_time": "2017-04-15T12:08:49.719282"
    },
    "collapsed": false
   },
   "outputs": [],
   "source": [
    "movie_ratings['new_rating'] = \\\n",
    "    movie_ratings.Rating.apply(recoding_function)"
   ]
  },
  {
   "cell_type": "code",
   "execution_count": null,
   "metadata": {
    "ExecuteTime": {
     "end_time": "2017-04-15T12:08:58.825387Z",
     "start_time": "2017-04-15T12:08:58.812049"
    },
    "collapsed": false
   },
   "outputs": [],
   "source": [
    "movie_ratings"
   ]
  },
  {
   "cell_type": "markdown",
   "metadata": {},
   "source": [
    "### Indexing (i.e., subsetting) data:"
   ]
  },
  {
   "cell_type": "code",
   "execution_count": null,
   "metadata": {
    "ExecuteTime": {
     "end_time": "2017-04-15T12:22:07.944934Z",
     "start_time": "2017-04-15T12:22:07.939868"
    },
    "collapsed": true
   },
   "outputs": [],
   "source": [
    "movie_ratings_subset = \\\n",
    "    movie_ratings.loc[movie_ratings.new_rating >= 5, \n",
    "                      ['Movie', 'new_rating']]"
   ]
  },
  {
   "cell_type": "code",
   "execution_count": null,
   "metadata": {
    "ExecuteTime": {
     "end_time": "2017-04-15T12:22:08.748764Z",
     "start_time": "2017-04-15T12:22:08.740319"
    },
    "collapsed": false
   },
   "outputs": [],
   "source": [
    "movie_ratings_subset"
   ]
  },
  {
   "cell_type": "markdown",
   "metadata": {},
   "source": [
    "### Saving data:"
   ]
  },
  {
   "cell_type": "code",
   "execution_count": null,
   "metadata": {
    "ExecuteTime": {
     "end_time": "2017-04-15T12:27:33.984818Z",
     "start_time": "2017-04-15T12:27:33.979405"
    },
    "collapsed": true
   },
   "outputs": [],
   "source": [
    "movie_ratings_subset.to_csv('./movie_ratings_sub.csv', \n",
    "                            index=False)"
   ]
  },
  {
   "cell_type": "code",
   "execution_count": null,
   "metadata": {
    "ExecuteTime": {
     "end_time": "2017-04-15T12:27:35.871660Z",
     "start_time": "2017-04-15T12:27:35.757811"
    },
    "collapsed": false
   },
   "outputs": [],
   "source": [
    "%ls"
   ]
  },
  {
   "cell_type": "markdown",
   "metadata": {
    "ExecuteTime": {
     "end_time": "2017-04-15T12:28:00.912034Z",
     "start_time": "2017-04-15T12:28:00.904366"
    }
   },
   "source": [
    "### Basic stats:"
   ]
  },
  {
   "cell_type": "code",
   "execution_count": null,
   "metadata": {
    "ExecuteTime": {
     "end_time": "2017-04-15T12:33:22.857703Z",
     "start_time": "2017-04-15T12:33:22.852318"
    },
    "collapsed": false
   },
   "outputs": [],
   "source": [
    "movie_ratings.new_rating.mean()"
   ]
  },
  {
   "cell_type": "code",
   "execution_count": null,
   "metadata": {
    "ExecuteTime": {
     "end_time": "2017-04-15T12:34:24.871471Z",
     "start_time": "2017-04-15T12:34:24.867432"
    },
    "collapsed": false
   },
   "outputs": [],
   "source": [
    "movie_ratings.new_rating.min()"
   ]
  },
  {
   "cell_type": "markdown",
   "metadata": {},
   "source": [
    "### Basic plotting"
   ]
  },
  {
   "cell_type": "code",
   "execution_count": null,
   "metadata": {
    "ExecuteTime": {
     "end_time": "2017-04-15T12:31:31.490840Z",
     "start_time": "2017-04-15T12:31:31.240974"
    },
    "collapsed": false
   },
   "outputs": [],
   "source": [
    "import matplotlib.pyplot as plt\n",
    "import matplotlib\n",
    "matplotlib.style.use('ggplot')\n",
    "%matplotlib inline\n",
    "\n",
    "movie_ratings.new_rating.plot()"
   ]
  }
 ],
 "metadata": {
  "kernelspec": {
   "display_name": "Python 3",
   "language": "python",
   "name": "python3"
  },
  "language_info": {
   "codemirror_mode": {
    "name": "ipython",
    "version": 3
   },
   "file_extension": ".py",
   "mimetype": "text/x-python",
   "name": "python",
   "nbconvert_exporter": "python",
   "pygments_lexer": "ipython3",
   "version": "3.6.0"
  }
 },
 "nbformat": 4,
 "nbformat_minor": 2
}
