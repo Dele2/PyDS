{
 "cells": [
  {
   "cell_type": "markdown",
   "metadata": {},
   "source": [
    "# Example 1"
   ]
  },
  {
   "cell_type": "code",
   "execution_count": null,
   "metadata": {
    "ExecuteTime": {
     "end_time": "2017-03-26T17:43:22.478329Z",
     "start_time": "2017-03-26T17:43:22.472993"
    },
    "collapsed": true
   },
   "outputs": [],
   "source": [
    "import pandas as pd\n",
    "import numpy as np\n",
    "%matplotlib inline"
   ]
  },
  {
   "cell_type": "code",
   "execution_count": null,
   "metadata": {
    "ExecuteTime": {
     "end_time": "2017-03-26T17:43:23.365852Z",
     "start_time": "2017-03-26T17:43:23.360673"
    },
    "code_folding": [
     1,
     2
    ],
    "collapsed": false
   },
   "outputs": [],
   "source": [
    "# Create some toy data\n",
    "df = pd.DataFrame(np.random.randn(100, 2), \n",
    "                  columns=['Random Thing A',\n",
    "                           'Random Thing B'])"
   ]
  },
  {
   "cell_type": "code",
   "execution_count": null,
   "metadata": {
    "ExecuteTime": {
     "end_time": "2017-03-26T17:42:45.418336Z",
     "start_time": "2017-03-26T17:42:45.145723"
    },
    "collapsed": false
   },
   "outputs": [],
   "source": [
    "# Plot it\n",
    "df.plot()"
   ]
  },
  {
   "cell_type": "code",
   "execution_count": null,
   "metadata": {
    "ExecuteTime": {
     "end_time": "2017-03-26T17:52:20.560979Z",
     "start_time": "2017-03-26T17:52:20.402102"
    },
    "collapsed": false
   },
   "outputs": [],
   "source": [
    "%ls"
   ]
  },
  {
   "cell_type": "code",
   "execution_count": null,
   "metadata": {
    "ExecuteTime": {
     "end_time": "2017-03-26T17:52:41.564005Z",
     "start_time": "2017-03-26T17:52:41.559682"
    },
    "collapsed": false
   },
   "outputs": [],
   "source": [
    "%who DataFrame"
   ]
  },
  {
   "cell_type": "code",
   "execution_count": null,
   "metadata": {
    "ExecuteTime": {
     "end_time": "2017-03-26T17:53:00.905223Z",
     "start_time": "2017-03-26T17:53:00.898681"
    },
    "collapsed": false
   },
   "outputs": [],
   "source": [
    "%lsmagic"
   ]
  }
 ],
 "metadata": {
  "kernelspec": {
   "display_name": "Python 3",
   "language": "python",
   "name": "python3"
  },
  "language_info": {
   "codemirror_mode": {
    "name": "ipython",
    "version": 3
   },
   "file_extension": ".py",
   "mimetype": "text/x-python",
   "name": "python",
   "nbconvert_exporter": "python",
   "pygments_lexer": "ipython3",
   "version": "3.6.0"
  }
 },
 "nbformat": 4,
 "nbformat_minor": 2
}
